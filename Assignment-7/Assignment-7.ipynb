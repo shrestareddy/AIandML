{
 "cells": [
  {
   "cell_type": "markdown",
   "metadata": {},
   "source": [
    "CSE-221710313024-K.SHRESTA"
   ]
  },
  {
   "cell_type": "code",
   "execution_count": 16,
   "metadata": {},
   "outputs": [
    {
     "name": "stdout",
     "output_type": "stream",
     "text": [
      "1 .  This is assignment 7\n",
      "\n",
      "2 .  displaying contents in reverse order\n",
      "\n",
      "3 .  Copy the contents of a text file into another\n"
     ]
    }
   ],
   "source": [
    "#1.Print the contents of a file line by line putting a line number for each line.\n",
    "with open(\"sample3.txt\",\"r\") as f:\n",
    "    i=1\n",
    "    for line in f:\n",
    "        print(i,\". \",line)\n",
    "        i+=1"
   ]
  },
  {
   "cell_type": "code",
   "execution_count": 17,
   "metadata": {},
   "outputs": [],
   "source": [
    "#2. Copy the contents of a text file into another, printing the reversed version of each input line\n",
    " #copying contents\n",
    "with open(\"sample3.txt\",\"r\") as f:\n",
    "    with open(\"sample4.txt\",\"w\") as f1:    \n",
    "        for line in f:\n",
    "            f1.write(line)"
   ]
  },
  {
   "cell_type": "code",
   "execution_count": 18,
   "metadata": {},
   "outputs": [
    {
     "name": "stdout",
     "output_type": "stream",
     "text": [
      "\n",
      "7 tnemngissa si sihT\n",
      "\n",
      "redro esrever ni stnetnoc gniyalpsid\n",
      "rehtona otni elif txet a fo stnetnoc eht ypoC\n"
     ]
    }
   ],
   "source": [
    "#displaying contents in reverse order\n",
    "with open(\"sample4.txt\",\"r\") as f1:\n",
    "        for line in f1:                    \n",
    "            print(line[::-1])"
   ]
  },
  {
   "cell_type": "code",
   "execution_count": 19,
   "metadata": {},
   "outputs": [
    {
     "name": "stdout",
     "output_type": "stream",
     "text": [
      "True\n",
      "[11, 12, 23, 24]\n"
     ]
    }
   ],
   "source": [
    "#3. Function to find duplicates in lists\n",
    "def duplicate(l):\n",
    "    for i in l:\n",
    "        if(l.count(i)>1):\n",
    "            return True\n",
    "            break\n",
    "        else:\n",
    "            continue\n",
    "    return False\n",
    "def removed(f):\n",
    "    for i in l:\n",
    "        if i not in li:\n",
    "            li.append(i)\n",
    "    return li\n",
    "l = [11,12,23,24,12]\n",
    "li= []\n",
    "f = (duplicate(l))\n",
    "print(f)\n",
    "if(f == True):\n",
    "    print(removed(l))"
   ]
  },
  {
   "cell_type": "code",
   "execution_count": 1,
   "metadata": {},
   "outputs": [
    {
     "name": "stdout",
     "output_type": "stream",
     "text": [
      "0.5\n",
      "1.25\n",
      "-0.25\n",
      "0.375\n",
      "0.6666666666666666\n"
     ]
    }
   ],
   "source": [
    "#4. Develop a package for fractions. Develop a module that performs operations on fractions. It should have methods to create fractions, perform operations on two fractions, simplify a fraction, and print a fraction. You should use that package and illustrate those operations.\n",
    "# user defined module fraction\n",
    "import fraction as f\n",
    "print(f.fracdis(100,200))\n",
    "print(f.add(100,200,300,400))\n",
    "print(f.sub(100,200,300,400))      \n",
    "print(f.mul(100,200,300,400))\n",
    "print(f.div(100,200,300,400))"
   ]
  },
  {
   "cell_type": "code",
   "execution_count": 20,
   "metadata": {},
   "outputs": [
    {
     "name": "stdout",
     "output_type": "stream",
     "text": [
      "True\n"
     ]
    }
   ],
   "source": [
    "#5. A permutation of a list is another list with the same elements, but in a possibly different order. For example, [1,2,1] is a permutation of [2,1,1], but not of [1,2,2]. Write a functionisPermutation (list1, list2): boolthat returns True if its arguments are permutations of each other.\n",
    "def ispermutation(l1,l2):\n",
    "    sum1 = sum(l1)\n",
    "    sum2 = sum(l2)\n",
    "    if sum1 == sum2:\n",
    "        return True\n",
    "    else:\n",
    "        return False\n",
    "l1 = [1,2,1]\n",
    "l2 = [1,1,2]\n",
    "print(ispermutation(l1,l2))"
   ]
  },
  {
   "cell_type": "code",
   "execution_count": null,
   "metadata": {},
   "outputs": [],
   "source": []
  }
 ],
 "metadata": {
  "kernelspec": {
   "display_name": "Python 3",
   "language": "python",
   "name": "python3"
  },
  "language_info": {
   "codemirror_mode": {
    "name": "ipython",
    "version": 3
   },
   "file_extension": ".py",
   "mimetype": "text/x-python",
   "name": "python",
   "nbconvert_exporter": "python",
   "pygments_lexer": "ipython3",
   "version": "3.7.6"
  }
 },
 "nbformat": 4,
 "nbformat_minor": 4
}
